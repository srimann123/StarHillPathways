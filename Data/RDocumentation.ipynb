{
  "nbformat": 4,
  "nbformat_minor": 0,
  "metadata": {
    "colab": {
      "provenance": []
    },
    "kernelspec": {
      "name": "ir",
      "display_name": "R"
    },
    "language_info": {
      "name": "R"
    }
  },
  "cells": [
    {
      "cell_type": "markdown",
      "source": [
        "# **Fantasy Team Exercise: R Documentation**\n",
        "> Authors: Maria Sanchez Linares, Srimann Ramachandruni"
      ],
      "metadata": {
        "id": "2f0eUw2QUGB2"
      }
    },
    {
      "cell_type": "code",
      "execution_count": null,
      "metadata": {
        "id": "cPtWBnfP_P9u"
      },
      "outputs": [],
      "source": [
        "#This is a codechunk, which is where you should write all of your code for it to run\n",
        "library(tidyverse)\n",
        "library(dplyr)"
      ]
    },
    {
      "cell_type": "markdown",
      "source": [
        "**Variables**"
      ],
      "metadata": {
        "id": "rNWhGvLUZww0"
      }
    },
    {
      "cell_type": "code",
      "source": [
        "#Variables are used to store data values in memory, see example below\n",
        "x = 2 + 2\n",
        "print(x) #the print() statement outputs the value stored in the \"x\" variable"
      ],
      "metadata": {
        "colab": {
          "base_uri": "https://localhost:8080/"
        },
        "id": "daMVi1fTZ0h8",
        "outputId": "6c370def-cb3a-4697-9a17-24d77c23f7f8"
      },
      "execution_count": null,
      "outputs": [
        {
          "output_type": "stream",
          "name": "stdout",
          "text": [
            "[1] 4\n"
          ]
        }
      ]
    },
    {
      "cell_type": "markdown",
      "source": [
        "**R sintax to perfom mathematical calculations**"
      ],
      "metadata": {
        "id": "236JhRyqAbBB"
      }
    },
    {
      "cell_type": "code",
      "source": [
        "#Addition\n",
        "2 + 2\n",
        "\n",
        "#Subtraction\n",
        "4 - 2\n",
        "\n",
        "#Multiplication\n",
        "4 * 4\n",
        "\n",
        "#Division\n",
        "16 / 4\n",
        "\n",
        "#Example\n",
        "(2+2) * 4\n"
      ],
      "metadata": {
        "colab": {
          "base_uri": "https://localhost:8080/",
          "height": 104
        },
        "id": "yj0MuP_1XaqD",
        "outputId": "35eb337e-6175-4cf8-de0c-e1df363ff7c4"
      },
      "execution_count": null,
      "outputs": [
        {
          "output_type": "display_data",
          "data": {
            "text/html": [
              "4"
            ],
            "text/markdown": "4",
            "text/latex": "4",
            "text/plain": [
              "[1] 4"
            ]
          },
          "metadata": {}
        },
        {
          "output_type": "display_data",
          "data": {
            "text/html": [
              "2"
            ],
            "text/markdown": "2",
            "text/latex": "2",
            "text/plain": [
              "[1] 2"
            ]
          },
          "metadata": {}
        },
        {
          "output_type": "display_data",
          "data": {
            "text/html": [
              "16"
            ],
            "text/markdown": "16",
            "text/latex": "16",
            "text/plain": [
              "[1] 16"
            ]
          },
          "metadata": {}
        },
        {
          "output_type": "display_data",
          "data": {
            "text/html": [
              "4"
            ],
            "text/markdown": "4",
            "text/latex": "4",
            "text/plain": [
              "[1] 4"
            ]
          },
          "metadata": {}
        },
        {
          "output_type": "display_data",
          "data": {
            "text/html": [
              "16"
            ],
            "text/markdown": "16",
            "text/latex": "16",
            "text/plain": [
              "[1] 16"
            ]
          },
          "metadata": {}
        }
      ]
    },
    {
      "cell_type": "markdown",
      "source": [
        "**R commands to calculate statistical summaries**"
      ],
      "metadata": {
        "id": "7hxh3MpbY_Fl"
      }
    },
    {
      "cell_type": "code",
      "source": [
        "#Mean\n",
        "v1 <- c(3,3,3) #this line creates a vector stored under the variable same \"v1\"\n",
        "mean(v1)\n",
        "\n",
        "#Median\n",
        "v2 <- c(1, 2, 3, 4, 5, 6, 7)\n",
        "median(v2)\n",
        "\n",
        "#Standard Deviation\n",
        "v3 <- c(2, 4, 6, 8, 10, 12, 14, 16)\n",
        "sd(v3)\n",
        "\n",
        "#Mode\n",
        "#There is no R built in command to calculate the mode, use the function provided below\n",
        "# Create the function named \"mode\"\n",
        "mode <- function(v) {\n",
        "   uniqv <- unique(v)\n",
        "   uniqv[which.max(tabulate(match(v, uniqv)))]}\n",
        "\n",
        "v4 <- c(1, 2, 3, 4, 4, 4, 5, 6)\n",
        "result <- mode(v4) #this line stores the value of 'mode(v3)' in the variable 'result'\n",
        "print(result)"
      ],
      "metadata": {
        "colab": {
          "base_uri": "https://localhost:8080/",
          "height": 87
        },
        "id": "Hzw5zKuQZiRb",
        "outputId": "2423be6d-bff6-49cb-bd92-8a66815d1086"
      },
      "execution_count": null,
      "outputs": [
        {
          "output_type": "display_data",
          "data": {
            "text/html": [
              "3"
            ],
            "text/markdown": "3",
            "text/latex": "3",
            "text/plain": [
              "[1] 3"
            ]
          },
          "metadata": {}
        },
        {
          "output_type": "display_data",
          "data": {
            "text/html": [
              "4"
            ],
            "text/markdown": "4",
            "text/latex": "4",
            "text/plain": [
              "[1] 4"
            ]
          },
          "metadata": {}
        },
        {
          "output_type": "display_data",
          "data": {
            "text/html": [
              "4.89897948556636"
            ],
            "text/markdown": "4.89897948556636",
            "text/latex": "4.89897948556636",
            "text/plain": [
              "[1] 4.898979"
            ]
          },
          "metadata": {}
        },
        {
          "output_type": "stream",
          "name": "stdout",
          "text": [
            "[1] 4\n"
          ]
        }
      ]
    },
    {
      "cell_type": "markdown",
      "source": [
        "**R Basics: Explore the dataset**"
      ],
      "metadata": {
        "id": "0PPuiE3_ej9I"
      }
    },
    {
      "cell_type": "code",
      "source": [
        "#This code is creating a dataframe\n",
        "players <- tibble( player = c(\"Bam Adebayo\", \"Ochai Agbaji\", \"Grayson Allen\", \"Jarrett Allen\", \"Jose Alvarado\", \"Kyle Anderson\",\n",
        "\"Cole Anthony\", \"Marvin Bagley III\", \"Amari Bailey\"),\n",
        "team = c(\"MIA\", \"UTA\", \"MIL\", \"CLE\", \"NOP\", \"MIN\", \"ORL\", \"DET\", \"CHA\"), number = c(13, 30, 12, 31, 15, 5, 50, 35, 2))\n"
      ],
      "metadata": {
        "id": "SUKirgOAembU"
      },
      "execution_count": null,
      "outputs": []
    },
    {
      "cell_type": "code",
      "source": [
        "#View function: opens spreadsheet viewer of dataset\n",
        "View(players)"
      ],
      "metadata": {
        "colab": {
          "base_uri": "https://localhost:8080/",
          "height": 380
        },
        "id": "B2e-KNXLhVHR",
        "outputId": "0dd3206c-11e8-4fcb-99ab-6d9d59717e41"
      },
      "execution_count": null,
      "outputs": [
        {
          "output_type": "display_data",
          "data": {
            "text/plain": [
              "  player            team number\n",
              "1 Bam Adebayo       MIA  13    \n",
              "2 Ochai Agbaji      UTA  30    \n",
              "3 Grayson Allen     MIL  12    \n",
              "4 Jarrett Allen     CLE  31    \n",
              "5 Jose Alvarado     NOP  15    \n",
              "6 Kyle Anderson     MIN   5    \n",
              "7 Cole Anthony      ORL  50    \n",
              "8 Marvin Bagley III DET  35    \n",
              "9 Amari Bailey      CHA   2    "
            ],
            "text/html": [
              "<table class=\"dataframe\">\n",
              "<caption>A tibble: 9 × 3</caption>\n",
              "<thead>\n",
              "\t<tr><th scope=col>player</th><th scope=col>team</th><th scope=col>number</th></tr>\n",
              "\t<tr><th scope=col>&lt;chr&gt;</th><th scope=col>&lt;chr&gt;</th><th scope=col>&lt;dbl&gt;</th></tr>\n",
              "</thead>\n",
              "<tbody>\n",
              "\t<tr><td>Bam Adebayo      </td><td>MIA</td><td>13</td></tr>\n",
              "\t<tr><td>Ochai Agbaji     </td><td>UTA</td><td>30</td></tr>\n",
              "\t<tr><td>Grayson Allen    </td><td>MIL</td><td>12</td></tr>\n",
              "\t<tr><td>Jarrett Allen    </td><td>CLE</td><td>31</td></tr>\n",
              "\t<tr><td>Jose Alvarado    </td><td>NOP</td><td>15</td></tr>\n",
              "\t<tr><td>Kyle Anderson    </td><td>MIN</td><td> 5</td></tr>\n",
              "\t<tr><td>Cole Anthony     </td><td>ORL</td><td>50</td></tr>\n",
              "\t<tr><td>Marvin Bagley III</td><td>DET</td><td>35</td></tr>\n",
              "\t<tr><td>Amari Bailey     </td><td>CHA</td><td> 2</td></tr>\n",
              "</tbody>\n",
              "</table>\n"
            ],
            "text/markdown": "\nA tibble: 9 × 3\n\n| player &lt;chr&gt; | team &lt;chr&gt; | number &lt;dbl&gt; |\n|---|---|---|\n| Bam Adebayo       | MIA | 13 |\n| Ochai Agbaji      | UTA | 30 |\n| Grayson Allen     | MIL | 12 |\n| Jarrett Allen     | CLE | 31 |\n| Jose Alvarado     | NOP | 15 |\n| Kyle Anderson     | MIN |  5 |\n| Cole Anthony      | ORL | 50 |\n| Marvin Bagley III | DET | 35 |\n| Amari Bailey      | CHA |  2 |\n\n",
            "text/latex": "A tibble: 9 × 3\n\\begin{tabular}{lll}\n player & team & number\\\\\n <chr> & <chr> & <dbl>\\\\\n\\hline\n\t Bam Adebayo       & MIA & 13\\\\\n\t Ochai Agbaji      & UTA & 30\\\\\n\t Grayson Allen     & MIL & 12\\\\\n\t Jarrett Allen     & CLE & 31\\\\\n\t Jose Alvarado     & NOP & 15\\\\\n\t Kyle Anderson     & MIN &  5\\\\\n\t Cole Anthony      & ORL & 50\\\\\n\t Marvin Bagley III & DET & 35\\\\\n\t Amari Bailey      & CHA &  2\\\\\n\\end{tabular}\n"
          },
          "metadata": {}
        }
      ]
    },
    {
      "cell_type": "code",
      "source": [
        "#head function: Prints the first 6 rows of a dataset\n",
        "head(players)"
      ],
      "metadata": {
        "colab": {
          "base_uri": "https://localhost:8080/",
          "height": 286
        },
        "id": "qScIRTychaOg",
        "outputId": "b56e5ef9-3a8e-4dab-8d7f-71eca14c78ab"
      },
      "execution_count": null,
      "outputs": [
        {
          "output_type": "display_data",
          "data": {
            "text/html": [
              "<table class=\"dataframe\">\n",
              "<caption>A tibble: 6 × 3</caption>\n",
              "<thead>\n",
              "\t<tr><th scope=col>player</th><th scope=col>team</th><th scope=col>number</th></tr>\n",
              "\t<tr><th scope=col>&lt;chr&gt;</th><th scope=col>&lt;chr&gt;</th><th scope=col>&lt;dbl&gt;</th></tr>\n",
              "</thead>\n",
              "<tbody>\n",
              "\t<tr><td>Bam Adebayo  </td><td>MIA</td><td>13</td></tr>\n",
              "\t<tr><td>Ochai Agbaji </td><td>UTA</td><td>30</td></tr>\n",
              "\t<tr><td>Grayson Allen</td><td>MIL</td><td>12</td></tr>\n",
              "\t<tr><td>Jarrett Allen</td><td>CLE</td><td>31</td></tr>\n",
              "\t<tr><td>Jose Alvarado</td><td>NOP</td><td>15</td></tr>\n",
              "\t<tr><td>Kyle Anderson</td><td>MIN</td><td> 5</td></tr>\n",
              "</tbody>\n",
              "</table>\n"
            ],
            "text/markdown": "\nA tibble: 6 × 3\n\n| player &lt;chr&gt; | team &lt;chr&gt; | number &lt;dbl&gt; |\n|---|---|---|\n| Bam Adebayo   | MIA | 13 |\n| Ochai Agbaji  | UTA | 30 |\n| Grayson Allen | MIL | 12 |\n| Jarrett Allen | CLE | 31 |\n| Jose Alvarado | NOP | 15 |\n| Kyle Anderson | MIN |  5 |\n\n",
            "text/latex": "A tibble: 6 × 3\n\\begin{tabular}{lll}\n player & team & number\\\\\n <chr> & <chr> & <dbl>\\\\\n\\hline\n\t Bam Adebayo   & MIA & 13\\\\\n\t Ochai Agbaji  & UTA & 30\\\\\n\t Grayson Allen & MIL & 12\\\\\n\t Jarrett Allen & CLE & 31\\\\\n\t Jose Alvarado & NOP & 15\\\\\n\t Kyle Anderson & MIN &  5\\\\\n\\end{tabular}\n",
            "text/plain": [
              "  player        team number\n",
              "1 Bam Adebayo   MIA  13    \n",
              "2 Ochai Agbaji  UTA  30    \n",
              "3 Grayson Allen MIL  12    \n",
              "4 Jarrett Allen CLE  31    \n",
              "5 Jose Alvarado NOP  15    \n",
              "6 Kyle Anderson MIN   5    "
            ]
          },
          "metadata": {}
        }
      ]
    },
    {
      "cell_type": "code",
      "source": [
        "#dim function: Prints the dimensions (number of rows and columns) of a dataset\n",
        "dim(players)\n",
        "\n",
        "#names function: Prints the names of the variables in a dataset\n",
        "names(players)\n",
        "\n",
        "#unique function: Prints the values of a specific variable\n",
        "unique(players$team) #(dataset$variable)\n"
      ],
      "metadata": {
        "colab": {
          "base_uri": "https://localhost:8080/",
          "height": 69
        },
        "id": "5Lo0TKNxheF2",
        "outputId": "bf4c218b-00f4-4dc5-a459-89b5d56894cb"
      },
      "execution_count": null,
      "outputs": [
        {
          "output_type": "display_data",
          "data": {
            "text/html": [
              "<style>\n",
              ".list-inline {list-style: none; margin:0; padding: 0}\n",
              ".list-inline>li {display: inline-block}\n",
              ".list-inline>li:not(:last-child)::after {content: \"\\00b7\"; padding: 0 .5ex}\n",
              "</style>\n",
              "<ol class=list-inline><li>9</li><li>3</li></ol>\n"
            ],
            "text/markdown": "1. 9\n2. 3\n\n\n",
            "text/latex": "\\begin{enumerate*}\n\\item 9\n\\item 3\n\\end{enumerate*}\n",
            "text/plain": [
              "[1] 9 3"
            ]
          },
          "metadata": {}
        },
        {
          "output_type": "display_data",
          "data": {
            "text/html": [
              "<style>\n",
              ".list-inline {list-style: none; margin:0; padding: 0}\n",
              ".list-inline>li {display: inline-block}\n",
              ".list-inline>li:not(:last-child)::after {content: \"\\00b7\"; padding: 0 .5ex}\n",
              "</style>\n",
              "<ol class=list-inline><li>'player'</li><li>'team'</li><li>'number'</li></ol>\n"
            ],
            "text/markdown": "1. 'player'\n2. 'team'\n3. 'number'\n\n\n",
            "text/latex": "\\begin{enumerate*}\n\\item 'player'\n\\item 'team'\n\\item 'number'\n\\end{enumerate*}\n",
            "text/plain": [
              "[1] \"player\" \"team\"   \"number\""
            ]
          },
          "metadata": {}
        },
        {
          "output_type": "display_data",
          "data": {
            "text/html": [
              "<style>\n",
              ".list-inline {list-style: none; margin:0; padding: 0}\n",
              ".list-inline>li {display: inline-block}\n",
              ".list-inline>li:not(:last-child)::after {content: \"\\00b7\"; padding: 0 .5ex}\n",
              "</style>\n",
              "<ol class=list-inline><li>'MIA'</li><li>'UTA'</li><li>'MIL'</li><li>'CLE'</li><li>'NOP'</li><li>'MIN'</li><li>'ORL'</li><li>'DET'</li><li>'CHA'</li></ol>\n"
            ],
            "text/markdown": "1. 'MIA'\n2. 'UTA'\n3. 'MIL'\n4. 'CLE'\n5. 'NOP'\n6. 'MIN'\n7. 'ORL'\n8. 'DET'\n9. 'CHA'\n\n\n",
            "text/latex": "\\begin{enumerate*}\n\\item 'MIA'\n\\item 'UTA'\n\\item 'MIL'\n\\item 'CLE'\n\\item 'NOP'\n\\item 'MIN'\n\\item 'ORL'\n\\item 'DET'\n\\item 'CHA'\n\\end{enumerate*}\n",
            "text/plain": [
              "[1] \"MIA\" \"UTA\" \"MIL\" \"CLE\" \"NOP\" \"MIN\" \"ORL\" \"DET\" \"CHA\""
            ]
          },
          "metadata": {}
        },
        {
          "output_type": "display_data",
          "data": {
            "text/html": [],
            "text/markdown": "",
            "text/latex": "",
            "text/plain": [
              " \n",
              "1"
            ]
          },
          "metadata": {}
        }
      ]
    }
  ]
}